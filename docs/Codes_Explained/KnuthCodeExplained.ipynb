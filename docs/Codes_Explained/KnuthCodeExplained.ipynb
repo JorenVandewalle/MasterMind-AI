{
 "cells": [
  {
   "cell_type": "markdown",
   "metadata": {},
   "source": [
    "# Knuth algorythm code explained\n",
    "In this part we will explain the importend parts from the knuth algorythm in code."
   ]
  },
  {
   "cell_type": "markdown",
   "metadata": {},
   "source": [
    "## Importing Required Modules\n",
    "We start by importing the required modules to generate combinations and manage data efficiently.\n",
    "- `itertools`: Used for generating all possible combinations of colors and positions.\n",
    "- `collections.Counter`: Used to count occurrences of colors and compute feedback."
   ]
  },
  {
   "cell_type": "code",
   "execution_count": 8,
   "metadata": {},
   "outputs": [
    {
     "data": {
      "text/plain": [
       "(0, 3)"
      ]
     },
     "execution_count": 8,
     "metadata": {},
     "output_type": "execute_result"
    }
   ],
   "source": [
    "import itertools\n",
    "from collections import Counter"
   ]
  },
  {
   "cell_type": "markdown",
   "metadata": {},
   "source": [
    "## Step 1: Generate All Possible Codes\n",
    "\n",
    "In Mastermind, we need to generate all possible codes that can be made with a given set of colors and positions. The `generate_all_codes` function uses `itertools.product` to generate every possible combination of colors with a specified number of positions.\n",
    "\n",
    "### Function `generate_all_codes`:\n",
    "- **Input**: A list of `colors` and the number of `positions`.\n",
    "- **Output**: A list of tuples representing all possible combinations of color codes.\n",
    "\n",
    "For example, if `colors` contains `['R', 'G', 'B']` and `positions` is 2, the function would generate combinations like `('R', 'R')`, `('R', 'G')`, etc."
   ]
  },
  {
   "cell_type": "code",
   "execution_count": null,
   "metadata": {},
   "outputs": [],
   "source": [
    "def generate_all_codes(colors, positions):\n",
    "    return list(itertools.product(colors, repeat=positions))"
   ]
  },
  {
   "cell_type": "markdown",
   "metadata": {},
   "source": [
    "## Step 2: Eliminate Codes That Don't Match the Feedback\n",
    "\n",
    "**How to get the feedback was explained earlier.**\n",
    "\n",
    "The `filter_possible_codes` function filters the list of possible codes based on the feedback received after each guess.\n",
    "\n",
    "### How It Works:\n",
    "- For each code in the list of possible codes, it checks whether the feedback for the guess matches the feedback provided by comparing it with the secret code.\n",
    "- Only codes that match the feedback remain in the list of possible codes.\n"
   ]
  },
  {
   "cell_type": "code",
   "execution_count": null,
   "metadata": {},
   "outputs": [],
   "source": [
    "def filter_possible_codes(possible_codes, guess, feedback):\n",
    "    return [\n",
    "        code\n",
    "        for code in possible_codes\n",
    "        if calculate_feedback(guess, code) == feedback\n",
    "    ]"
   ]
  },
  {
   "cell_type": "markdown",
   "metadata": {},
   "source": [
    "These are the most inportand steps for the Knuth Algorythm"
   ]
  }
 ],
 "metadata": {
  "kernelspec": {
   "display_name": "Python 3",
   "language": "python",
   "name": "python3"
  },
  "language_info": {
   "codemirror_mode": {
    "name": "ipython",
    "version": 3
   },
   "file_extension": ".py",
   "mimetype": "text/x-python",
   "name": "python",
   "nbconvert_exporter": "python",
   "pygments_lexer": "ipython3",
   "version": "3.10.11"
  }
 },
 "nbformat": 4,
 "nbformat_minor": 2
}
