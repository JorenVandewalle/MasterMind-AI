{
 "cells": [
  {
   "cell_type": "markdown",
   "metadata": {},
   "source": [
    "# Mastermind Game: Code and Explanation\n",
    "This notebook contains the implementation of the classic Mastermind game. Below, the code is broken down into sections with explanations for each part."
   ]
  },
  {
   "cell_type": "markdown",
   "metadata": {},
   "source": [
    "## Feedback Function: `get_feedback`\n",
    "The `get_feedback` function calculates two types of feedback for a guess:\n",
    "\n",
    "1. **Black pegs**: These represent the number of guessed colors that are correct **and** in the correct position.\n",
    "2. **White pegs**: These represent the number of guessed colors that are correct but in the **wrong position**.\n",
    "\n",
    "### How It Works:\n",
    "- First, we calculate the number of black pegs by comparing corresponding elements in the code and guess using `zip`.\n",
    "- Next, we calculate the white pegs by finding the minimum count of each color in the code and the guess, ensuring we don’t double-count the black pegs.\n",
    "\n",
    "Here is the function implementation:\n"
   ]
  },
  {
   "cell_type": "code",
   "execution_count": 8,
   "metadata": {},
   "outputs": [
    {
     "data": {
      "text/plain": [
       "(0, 3)"
      ]
     },
     "execution_count": 8,
     "metadata": {},
     "output_type": "execute_result"
    },
    {
     "ename": "",
     "evalue": "",
     "output_type": "error",
     "traceback": [
      "\u001b[1;31mThe Kernel crashed while executing code in the current cell or a previous cell. \n",
      "\u001b[1;31mPlease review the code in the cell(s) to identify a possible cause of the failure. \n",
      "\u001b[1;31mClick <a href='https://aka.ms/vscodeJupyterKernelCrash'>here</a> for more info. \n",
      "\u001b[1;31mView Jupyter <a href='command:jupyter.viewOutput'>log</a> for further details."
     ]
    }
   ],
   "source": [
    "def get_feedback(code, guess):\n",
    "    black_pegs = sum([c == g for c, g in zip(code, guess)])  # Correct color & position\n",
    "    white_pegs = sum([min(code.count(c), guess.count(c)) for c in set(guess)]) - black_pegs  # Correct color, wrong position\n",
    "    return black_pegs, white_pegs\n",
    "    # Provides feedback: black pegs for correct color in correct position, white pegs for correct color in wrong position.\n",
    "\n",
    "get_feedback(\"RRGG\" , \"BGRR\") # Left is the secret code right is the guess\n",
    "\n"
   ]
  },
  {
   "cell_type": "markdown",
   "metadata": {},
   "source": [
    "## Mastermind Game Function: Introduction\n",
    "This function serves as the main gameplay loop. Here's what happens:\n",
    "1. We display a welcome message and explain the rules to the players.\n",
    "2. Both players use a fixed set of color codes (`R`, `G`, `B`, `Y` ,`O` , `P`).\n",
    "3. Set code length to always be 4\n"
   ]
  },
  {
   "cell_type": "code",
   "execution_count": null,
   "metadata": {},
   "outputs": [],
   "source": [
    "def mastermind_game():\n",
    "    # List of possible colors\n",
    "    colors = ['R', 'G', 'B', 'Y', 'O', 'P']  # Red, Green, Blue, Yellow, Orange, Purple\n",
    "\n",
    "    print(\"Welcome to Mastermind!\\n\")\n",
    "    print(\"One player will create a secret color code, and the other player will try to guess it.\")\n",
    "    print(\"After each guess, feedback will be provided in the form of black and white pegs.\")\n",
    "    print(\"Black pegs indicate correct color in the correct position.\")\n",
    "    print(\"White pegs indicate correct color but in the wrong position.\\n\")\n",
    "\n",
    "    # Set the length of the code to always be 4\n",
    "    code_length = 4"
   ]
  },
  {
   "cell_type": "markdown",
   "metadata": {},
   "source": [
    "## Player 1: Creating the Secret Code\n",
    "Player 1 enters a secret code of the specified length. The code is validated to ensure:\n",
    "1. It is the correct length.\n",
    "2. It only uses allowed colors (`R`, `G`, `B`, `Y` ,`O` , `P` ).\n"
   ]
  },
  {
   "cell_type": "code",
   "execution_count": null,
   "metadata": {},
   "outputs": [],
   "source": [
    "    # Player 1 enters a secret code\n",
    "    print(\"\\nPlayer 1, create your secret code (don't tell Player 2!).\")\n",
    "    code = input(f\"Enter your secret {code_length}-color code (using colors: {', '.join(colors)}): \").upper()\n",
    "\n",
    "    # Validate that the code is the right length and uses valid colors\n",
    "    while (len(code) != code_length or any(c not in colors for c in code)):\n",
    "        print(f\"Invalid code! Please use {code_length} colors from: {colors}.\")\n",
    "        code = input(f\"Enter your secret {code_length}-color code (using colors: {', '.join(colors)}): \").upper()"
   ]
  },
  {
   "cell_type": "markdown",
   "metadata": {},
   "source": [
    "## Player 2: Guessing the Secret Code\n",
    "Player 2 starts guessing. The loop continues until:\n",
    "1. Player 2 cracks the code (all black pegs).\n",
    "2. Feedback is provided after each guess:\n",
    "   - Black pegs indicate correct colors in correct positions.\n",
    "   - White pegs indicate correct colors in wrong positions.\n",
    "3. Validation ensures guesses are of the correct length and contain valid colors."
   ]
  },
  {
   "cell_type": "code",
   "execution_count": null,
   "metadata": {},
   "outputs": [],
   "source": [
    "# Player 2 starts guessing the code\n",
    "    attempts = 0\n",
    "    print(\"\\nPlayer 2, start guessing!\\n\")\n",
    "\n",
    "    while True:\n",
    "        # Player 2 enters their guess\n",
    "        guess = input(f\"Attempt {attempts + 1}: Enter your guess (e.g., RGBY): \").upper()\n",
    "\n",
    "        # Validate guess length and colors\n",
    "        while (len(guess) != code_length or any(c not in colors for c in guess)):\n",
    "            print(f\"Invalid guess! Please use {code_length} colors from: {colors}.\")\n",
    "            guess = input(f\"Attempt {attempts + 1}: Enter your guess (e.g., RGBY): \").upper()\n",
    "\n",
    "        # Get feedback for the guess\n",
    "        black_pegs, white_pegs = get_feedback(code, guess)\n",
    "        print(f\"Feedback: {black_pegs} black peg(s), {white_pegs} white peg(s)\\n\")\n",
    "\n",
    "        attempts += 1\n",
    "\n",
    "        if black_pegs == code_length:\n",
    "            print(f\"Congratulations Player 2! You've cracked the code {code} in {attempts} attempts.\")\n",
    "            break"
   ]
  },
  {
   "cell_type": "markdown",
   "metadata": {},
   "source": [
    "## Running the Game\n",
    "This is the entry point for the game. The `mastermind_game()` function is called to start the game.\n"
   ]
  },
  {
   "cell_type": "code",
   "execution_count": null,
   "metadata": {},
   "outputs": [],
   "source": [
    "# Run the game\n",
    "mastermind_game()"
   ]
  }
 ],
 "metadata": {
  "kernelspec": {
   "display_name": "Python 3",
   "language": "python",
   "name": "python3"
  },
  "language_info": {
   "codemirror_mode": {
    "name": "ipython",
    "version": 3
   },
   "file_extension": ".py",
   "mimetype": "text/x-python",
   "name": "python",
   "nbconvert_exporter": "python",
   "pygments_lexer": "ipython3",
   "version": "3.10.11"
  }
 },
 "nbformat": 4,
 "nbformat_minor": 2
}
