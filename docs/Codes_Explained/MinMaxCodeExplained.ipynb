{
 "cells": [
  {
   "cell_type": "markdown",
   "metadata": {},
   "source": [
    "## Step 4: Determine the \"Minimax\" Guess\n",
    "\n",
    "Knuth's algorithm uses a **minimax strategy** to select the next guess. The strategy minimizes the worst-case number of remaining possibilities after every guess.\n",
    "\n",
    "### How It Works:\n",
    "- For each guess, simulate all possible outcomes against every potential remaining secret code.\n",
    "- For each feedback scenario, count how many remaining possibilities would result.\n",
    "- Select the guess that minimizes the largest number of remaining possibilities.\n"
   ]
  },
  {
   "cell_type": "code",
   "execution_count": 4,
   "metadata": {},
   "outputs": [
    {
     "name": "stdout",
     "output_type": "stream",
     "text": [
      "('R', 'R', 'G', 'G')\n"
     ]
    },
    {
     "data": {
      "text/plain": [
       "('R', 'R', 'G', 'G')"
      ]
     },
     "execution_count": 4,
     "metadata": {},
     "output_type": "execute_result"
    }
   ],
   "source": [
    "import itertools\n",
    "from collections import Counter\n",
    "\n",
    "# This is the min max part\n",
    "def choose_next_guess(possible_codes):\n",
    "    best_guess = None\n",
    "    smallest_worst_case = float(\"inf\")\n",
    "\n",
    "    # Try every guess from the remaining possible codes\n",
    "    for guess in possible_codes:\n",
    "        # Simulate feedback for every possible solution\n",
    "        feedback_counts = Counter(\n",
    "            calculate_feedback(guess, code) for code in possible_codes\n",
    "        )\n",
    "        # Determine the worst-case size of remaining possibilities\n",
    "        worst_case = max(feedback_counts.values())\n",
    "\n",
    "        if worst_case < smallest_worst_case:\n",
    "            smallest_worst_case = worst_case\n",
    "            best_guess = guess\n",
    "\n",
    "    print(best_guess) \n",
    "    return best_guess\n",
    "\n",
    "\n",
    "# this is extra code to show functionality\n",
    "def generate_all_codes(colors, positions):\n",
    "    return list(itertools.product(colors, repeat=positions))\n",
    "\n",
    "def calculate_feedback(guess, code):\n",
    "    \"\"\"\n",
    "    Calculates the feedback for a guess against a given code.\n",
    "    Returns a tuple (black_pins, white_pins).\n",
    "    \"\"\"\n",
    "    black_pins = sum(g == c for g, c in zip(guess, code))  \n",
    "    white_pins = (\n",
    "        sum((Counter(code) & Counter(guess)).values()) - black_pins\n",
    "    ) \n",
    "    return black_pins, white_pins\n",
    "\n",
    "colors = [\"R\", \"G\", \"B\", \"Y\", \"O\", \"P\"]  \n",
    "positions = 4  \n",
    "\n",
    "all_codes = generate_all_codes(colors, positions)\n",
    "choose_next_guess(all_codes)\n"
   ]
  },
  {
   "cell_type": "markdown",
   "metadata": {},
   "source": [
    "The result u get from this is the best possible starting code for solving Masterminde. "
   ]
  }
 ],
 "metadata": {
  "kernelspec": {
   "display_name": "Python 3",
   "language": "python",
   "name": "python3"
  },
  "language_info": {
   "codemirror_mode": {
    "name": "ipython",
    "version": 3
   },
   "file_extension": ".py",
   "mimetype": "text/x-python",
   "name": "python",
   "nbconvert_exporter": "python",
   "pygments_lexer": "ipython3",
   "version": "3.10.11"
  }
 },
 "nbformat": 4,
 "nbformat_minor": 2
}
